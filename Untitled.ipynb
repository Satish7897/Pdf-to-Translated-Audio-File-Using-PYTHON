{
 "cells": [
  {
   "cell_type": "code",
   "execution_count": 5,
   "metadata": {},
   "outputs": [],
   "source": [
    "#step 1\n",
    "from gtts import gTTS\n",
    "import PyPDF2\n",
    "from googletrans import Translator\n",
    "from tkinter.filedialog import *"
   ]
  },
  {
   "cell_type": "code",
   "execution_count": 9,
   "metadata": {},
   "outputs": [],
   "source": [
    "book=askopenfilename()\n",
    "pd=PyPDF2.PdfFileReader(book)\n",
    "total=''\n",
    "pages=pd.numPages\n",
    "for num in range(0,pages):\n",
    "    page=pd.getPage(num)\n",
    "    txt=page.extractText()\n",
    "    total+=txt\n",
    "    "
   ]
  },
  {
   "cell_type": "code",
   "execution_count": 10,
   "metadata": {},
   "outputs": [],
   "source": [
    "trans=Translator()\n",
    "t=trans.translate(total,src=\"en\",dest=\"hi\")\n",
    "obj=gTTS(text=t.text,slow=\"False\",lang=\"hi\")\n",
    "obj.save(\"audio.mp3\")"
   ]
  },
  {
   "cell_type": "code",
   "execution_count": null,
   "metadata": {},
   "outputs": [],
   "source": [
    "# this may take time to convert\n",
    "#if you linke then plz subsribe"
   ]
  }
 ],
 "metadata": {
  "kernelspec": {
   "display_name": "Python 3",
   "language": "python",
   "name": "python3"
  },
  "language_info": {
   "codemirror_mode": {
    "name": "ipython",
    "version": 3
   },
   "file_extension": ".py",
   "mimetype": "text/x-python",
   "name": "python",
   "nbconvert_exporter": "python",
   "pygments_lexer": "ipython3",
   "version": "3.7.6"
  }
 },
 "nbformat": 4,
 "nbformat_minor": 4
}
